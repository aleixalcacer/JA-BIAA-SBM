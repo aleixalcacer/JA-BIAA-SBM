{
 "cells": [
  {
   "cell_type": "code",
   "execution_count": 69,
   "id": "initial_id",
   "metadata": {
    "collapsed": true,
    "ExecuteTime": {
     "end_time": "2023-11-27T12:43:57.015931Z",
     "start_time": "2023-11-27T12:43:57.006153Z"
    }
   },
   "outputs": [],
   "source": [
    "import sys\n",
    "sys.path.append('/Users/aleix11alcacer/Projects/archetypes')\n",
    "\n",
    "import numpy as np\n",
    "import torch\n",
    "from models import BiAA, SBM, DBiAA, DSBM\n",
    "from archetypes.datasets import sort_by_archetype_similarity, make_archetypal_dataset, shuffle_dataset\n",
    "from archetypes.visualization import heatmap\n",
    "from itertools import product\n",
    "from sklearn.metrics import normalized_mutual_info_score\n",
    "import pandas as pd\n",
    "import matplotlib.pyplot as plt\n",
    "import matplotlib as mpl\n",
    "from tqdm.auto import tqdm\n",
    "from sklearn.metrics import average_precision_score, roc_auc_score"
   ]
  },
  {
   "cell_type": "code",
   "execution_count": 70,
   "outputs": [
    {
     "data": {
      "text/plain": "  0%|          | 0/4 [00:00<?, ?it/s]",
      "application/vnd.jupyter.widget-view+json": {
       "version_major": 2,
       "version_minor": 0,
       "model_id": "9a6ab9b8600541fe95d3df76d00d59e0"
      }
     },
     "metadata": {},
     "output_type": "display_data"
    },
    {
     "data": {
      "text/plain": "  0%|          | 0/2 [00:00<?, ?it/s]",
      "application/vnd.jupyter.widget-view+json": {
       "version_major": 2,
       "version_minor": 0,
       "model_id": "6b14707f0c97499b9525a4f34a4b775a"
      }
     },
     "metadata": {},
     "output_type": "display_data"
    },
    {
     "data": {
      "text/plain": "  0%|          | 0/5 [00:00<?, ?it/s]",
      "application/vnd.jupyter.widget-view+json": {
       "version_major": 2,
       "version_minor": 0,
       "model_id": "1dddff207e27479b8371210250d4f358"
      }
     },
     "metadata": {},
     "output_type": "display_data"
    },
    {
     "data": {
      "text/plain": "  0%|          | 0/5 [00:00<?, ?it/s]",
      "application/vnd.jupyter.widget-view+json": {
       "version_major": 2,
       "version_minor": 0,
       "model_id": "9d69efcc2bc24cf68ab3a9d42c59f1cd"
      }
     },
     "metadata": {},
     "output_type": "display_data"
    },
    {
     "data": {
      "text/plain": "  0%|          | 0/2 [00:00<?, ?it/s]",
      "application/vnd.jupyter.widget-view+json": {
       "version_major": 2,
       "version_minor": 0,
       "model_id": "624259a107c0435586ea213318518eb1"
      }
     },
     "metadata": {},
     "output_type": "display_data"
    },
    {
     "data": {
      "text/plain": "  0%|          | 0/5 [00:00<?, ?it/s]",
      "application/vnd.jupyter.widget-view+json": {
       "version_major": 2,
       "version_minor": 0,
       "model_id": "a90ae65ea134420c9fc249093f4d3438"
      }
     },
     "metadata": {},
     "output_type": "display_data"
    },
    {
     "data": {
      "text/plain": "  0%|          | 0/5 [00:00<?, ?it/s]",
      "application/vnd.jupyter.widget-view+json": {
       "version_major": 2,
       "version_minor": 0,
       "model_id": "c3ebce4164994cd9ba5981905e9dee5a"
      }
     },
     "metadata": {},
     "output_type": "display_data"
    },
    {
     "data": {
      "text/plain": "  0%|          | 0/2 [00:00<?, ?it/s]",
      "application/vnd.jupyter.widget-view+json": {
       "version_major": 2,
       "version_minor": 0,
       "model_id": "cfefb65786164e9e83ee60624887f29c"
      }
     },
     "metadata": {},
     "output_type": "display_data"
    },
    {
     "data": {
      "text/plain": "  0%|          | 0/5 [00:00<?, ?it/s]",
      "application/vnd.jupyter.widget-view+json": {
       "version_major": 2,
       "version_minor": 0,
       "model_id": "58b7230dc88a436cba32489f9c8c410d"
      }
     },
     "metadata": {},
     "output_type": "display_data"
    },
    {
     "data": {
      "text/plain": "  0%|          | 0/5 [00:00<?, ?it/s]",
      "application/vnd.jupyter.widget-view+json": {
       "version_major": 2,
       "version_minor": 0,
       "model_id": "8352505da953429fab798ddbc76bc095"
      }
     },
     "metadata": {},
     "output_type": "display_data"
    },
    {
     "data": {
      "text/plain": "  0%|          | 0/2 [00:00<?, ?it/s]",
      "application/vnd.jupyter.widget-view+json": {
       "version_major": 2,
       "version_minor": 0,
       "model_id": "63bdd19a61f9423882f8910a56480eaf"
      }
     },
     "metadata": {},
     "output_type": "display_data"
    },
    {
     "data": {
      "text/plain": "  0%|          | 0/5 [00:00<?, ?it/s]",
      "application/vnd.jupyter.widget-view+json": {
       "version_major": 2,
       "version_minor": 0,
       "model_id": "8f42e434cab746279ae62f514bb3b513"
      }
     },
     "metadata": {},
     "output_type": "display_data"
    },
    {
     "data": {
      "text/plain": "  0%|          | 0/5 [00:00<?, ?it/s]",
      "application/vnd.jupyter.widget-view+json": {
       "version_major": 2,
       "version_minor": 0,
       "model_id": "424fa1cbb86c433db197a61200dd3373"
      }
     },
     "metadata": {},
     "output_type": "display_data"
    }
   ],
   "source": [
    "n_archetypes = (3, 3)\n",
    "\n",
    "archetypes = np.array(\n",
    "    [\n",
    "        [0.3, 0.6, 0.7],\n",
    "        [0.5, 0.5, 0.3],\n",
    "        [0.3, 0.5, 0.7],\n",
    "    ]\n",
    ")\n",
    "\n",
    "shape = (200, 200)\n",
    "\n",
    "alphas = [0, 0.25, 0.5, 1]\n",
    "models = [BiAA, SBM]\n",
    "assignments = [\"soft\"]\n",
    "\n",
    "results = None\n",
    "results_loss = None\n",
    "\n",
    "dict_archetypes = {}\n",
    "dict_nmi = {}\n",
    "\n",
    "for alpha in tqdm(alphas, leave=False):\n",
    "\n",
    "    generator = np.random.default_rng(0)\n",
    "    data, labels = make_archetypal_dataset(\n",
    "        archetypes,\n",
    "        shape,\n",
    "        alpha=alpha,\n",
    "        generator=generator,\n",
    "        noise=0.1\n",
    "    )\n",
    "\n",
    "    data = np.clip(data, 0, 1)\n",
    "\n",
    "    data = generator.binomial(1, data)  # binarize the data\n",
    "\n",
    "    data_shuffle, info_shuffle = shuffle_dataset(data, generator=generator)\n",
    "    a = torch.tensor(data_shuffle, dtype=torch.float32)\n",
    "        \n",
    "    biaa_model = None\n",
    "    for assignment, model in tqdm(list(product(assignments, models)), leave=False):\n",
    "        auc_j = -np.inf\n",
    "        prauc_j = -np.inf\n",
    "        best_model = None\n",
    "        for _ in tqdm(range(5), leave=False):\n",
    "            if model in [BiAA, DBiAA]:\n",
    "                model_i = model(n_archetypes, a, likelihood=\"bernoulli\", assignment=assignment,\n",
    "                                device=\"cpu\")\n",
    "            else:\n",
    "                model_i = model(n_archetypes, a, likelihood=\"bernoulli\", assignment=assignment,\n",
    "                                device=\"cpu\", biaa_model=biaa_model)\n",
    "\n",
    "            model_i.fit(2_000, learning_rate=0.05, threshold=0)\n",
    "\n",
    "            if not best_model or best_model.losses[-1] < model_i.losses[-1]:\n",
    "                best_model = model_i\n",
    "\n",
    "        if model in [BiAA, DBiAA]:\n",
    "            biaa_model = best_model\n",
    "            \n",
    "        \n",
    "        # compute the similarity between the archetypes and the true archetypes\n",
    "        from models.metrics import normalized_mutual_info_score\n",
    "        \n",
    "        nmi = normalized_mutual_info_score(torch.tensor(archetypes).float(), best_model.Z)\n",
    "        dict_archetypes[(assignment, model.__name__, alpha)] = best_model.Z.detach().numpy()\n",
    "        dict_nmi[(assignment, model.__name__, alpha)] = nmi\n",
    "\n",
    "        # print(f\"{assignment} {model.__name__} NMI: {nmi}\")\n",
    "        "
   ],
   "metadata": {
    "collapsed": false,
    "ExecuteTime": {
     "end_time": "2023-11-27T12:46:00.092625Z",
     "start_time": "2023-11-27T12:43:57.019047Z"
    }
   },
   "id": "aad642d6d1aa135f"
  },
  {
   "cell_type": "code",
   "execution_count": 71,
   "outputs": [
    {
     "data": {
      "text/plain": "<Figure size 640x480 with 1 Axes>",
      "image/png": "[encoded data removed]"
     },
     "metadata": {},
     "output_type": "display_data"
    }
   ],
   "source": [
    "import seaborn as sns\n",
    "\n",
    "df = pd.DataFrame.from_dict(dict_nmi, orient=\"index\").reset_index()\n",
    "\n",
    "# extract tuple values from first column\n",
    "df[[\"assignment\", \"model\", \"alpha\"]] = pd.DataFrame(df[\"index\"].tolist(), index=df.index)\n",
    "\n",
    "# remove index column\n",
    "df = df.drop(columns=[\"index\"])\n",
    "\n",
    "# rename columns\n",
    "df = df.rename(columns={0: \"NMI\"})\n",
    "\n",
    "\n",
    "sns.barplot(data=df, x=\"alpha\", y=\"NMI\", hue=\"model\")\n",
    "\n",
    "plt.show()"
   ],
   "metadata": {
    "collapsed": false,
    "ExecuteTime": {
     "end_time": "2023-11-27T12:46:00.390618Z",
     "start_time": "2023-11-27T12:46:00.139449Z"
    }
   },
   "id": "ade9643fe3960b40"
  },
  {
   "cell_type": "code",
   "execution_count": 72,
   "outputs": [
    {
     "data": {
      "text/plain": "<Figure size 2000x1000 with 8 Axes>",
      "image/png": "[encoded data removed]"
     },
     "metadata": {},
     "output_type": "display_data"
    }
   ],
   "source": [
    "fig, axes = plt.subplots(2, 4, figsize=(20, 10))\n",
    "axes = axes.flatten()\n",
    "for i, ((assignment, model, alpha), arch) in enumerate(dict_archetypes.items()):\n",
    "    heatmap(arch, vmin=0, vmax=1, ax=axes[i])\n",
    "    axes[i].set_title(f\"{assignment} {model} {alpha}\")"
   ],
   "metadata": {
    "collapsed": false,
    "ExecuteTime": {
     "end_time": "2023-11-27T12:46:02.240957Z",
     "start_time": "2023-11-27T12:46:00.395824Z"
    }
   },
   "id": "847c04315a84fdc"
  },
  {
   "cell_type": "code",
   "execution_count": 73,
   "outputs": [
    {
     "data": {
      "text/plain": "<Axes: >"
     },
     "execution_count": 73,
     "metadata": {},
     "output_type": "execute_result"
    },
    {
     "data": {
      "text/plain": "<Figure size 500x500 with 1 Axes>",
      "image/png": "[encoded data removed]"
     },
     "metadata": {},
     "output_type": "display_data"
    }
   ],
   "source": [
    "heatmap(archetypes, vmin=0, vmax=1)"
   ],
   "metadata": {
    "collapsed": false,
    "ExecuteTime": {
     "end_time": "2023-11-27T12:46:02.392775Z",
     "start_time": "2023-11-27T12:46:02.238914Z"
    }
   },
   "id": "892431581235e42a"
  },
  {
   "cell_type": "code",
   "execution_count": 73,
   "outputs": [],
   "source": [],
   "metadata": {
    "collapsed": false,
    "ExecuteTime": {
     "end_time": "2023-11-27T12:46:02.393259Z",
     "start_time": "2023-11-27T12:46:02.346109Z"
    }
   },
   "id": "7ff6b1040e3fc737"
  }
 ],
 "metadata": {
  "kernelspec": {
   "display_name": "Python 3",
   "language": "python",
   "name": "python3"
  },
  "language_info": {
   "codemirror_mode": {
    "name": "ipython",
    "version": 2
   },
   "file_extension": ".py",
   "mimetype": "text/x-python",
   "name": "python",
   "nbconvert_exporter": "python",
   "pygments_lexer": "ipython2",
   "version": "2.7.6"
  }
 },
 "nbformat": 4,
 "nbformat_minor": 5
}
