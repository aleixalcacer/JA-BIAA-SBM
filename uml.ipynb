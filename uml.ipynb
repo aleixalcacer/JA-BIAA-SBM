{
 "cells": [
  {
   "cell_type": "code",
   "execution_count": 1,
   "id": "f1b1dea49ebd7e74",
   "metadata": {
    "ExecuteTime": {
     "end_time": "2023-11-09T14:25:33.242705Z",
     "start_time": "2023-11-09T14:25:29.826640Z"
    }
   },
   "outputs": [],
   "source": [
    "import numpy as np\n",
    "import pandas as pd\n",
    "# load mat file\n",
    "import scipy"
   ]
  },
  {
   "cell_type": "code",
   "execution_count": 2,
   "id": "cf3f60f2ddcddfc6",
   "metadata": {
    "ExecuteTime": {
     "end_time": "2023-11-09T14:25:46.706352Z",
     "start_time": "2023-11-09T14:25:46.618374Z"
    },
    "collapsed": false,
    "jupyter": {
     "outputs_hidden": false
    }
   },
   "outputs": [
    {
     "data": {
      "text/plain": [
       "(135, 135, 49)"
      ]
     },
     "execution_count": 2,
     "metadata": {},
     "output_type": "execute_result"
    }
   ],
   "source": [
    "mat = scipy.io.loadmat('datasets/irmdata/uml.mat')\n",
    "d = mat['Rs']\n",
    "d.shape"
   ]
  },
  {
   "cell_type": "code",
   "execution_count": 3,
   "id": "e6b9ec57691ae76c",
   "metadata": {
    "ExecuteTime": {
     "end_time": "2023-11-09T14:25:47.475508Z",
     "start_time": "2023-11-09T14:25:47.418032Z"
    },
    "collapsed": false,
    "jupyter": {
     "outputs_hidden": false
    }
   },
   "outputs": [],
   "source": [
    "%load_ext autoreload\n",
    "%autoreload 2"
   ]
  },
  {
   "cell_type": "code",
   "execution_count": 4,
   "id": "34016267761c334b",
   "metadata": {
    "ExecuteTime": {
     "end_time": "2023-11-09T14:25:48.308472Z",
     "start_time": "2023-11-09T14:25:48.255784Z"
    },
    "collapsed": false,
    "jupyter": {
     "outputs_hidden": false
    }
   },
   "outputs": [],
   "source": [
    "import sys\n",
    "\n",
    "sys.path.append(\"/Users/aleix11alcacer/Projects/archetypes\")"
   ]
  },
  {
   "cell_type": "code",
   "execution_count": 5,
   "id": "fbbe422138c71691",
   "metadata": {
    "ExecuteTime": {
     "end_time": "2023-11-09T14:26:54.013032Z",
     "start_time": "2023-11-09T14:26:53.920275Z"
    },
    "collapsed": false,
    "jupyter": {
     "outputs_hidden": false
    }
   },
   "outputs": [],
   "source": [
    "from archetypes.algorithms.torch import NAA\n",
    "from models import BiAA, DBiAA\n",
    "import torch"
   ]
  },
  {
   "cell_type": "code",
   "execution_count": 6,
   "id": "71f6a8d090797ec1",
   "metadata": {
    "ExecuteTime": {
     "end_time": "2023-11-09T14:28:03.930530Z",
     "start_time": "2023-11-09T14:26:58.631998Z"
    },
    "collapsed": false,
    "jupyter": {
     "outputs_hidden": false
    }
   },
   "outputs": [
    {
     "data": {
      "application/vnd.jupyter.widget-view+json": {
       "model_id": "f7340a48a4af4935b2e551c23608c1b7",
       "version_major": 2,
       "version_minor": 0
      },
      "text/plain": [
       "  0%|          | 0/4000 [00:00<?, ?it/s]"
      ]
     },
     "metadata": {},
     "output_type": "display_data"
    }
   ],
   "source": [
    "data = torch.tensor(d).float().reshape(d.shape)\n",
    "\n",
    "model = NAA((14, 14, 21), d.shape, relations=[0, 0, 1], degree_correction=False, loss=\"normal\")\n",
    "\n",
    "model.fit(data, n_epochs=4_000, learning_rate=0.01)"
   ]
  },
  {
   "cell_type": "code",
   "execution_count": 7,
   "id": "7fc4540a016a85fd",
   "metadata": {
    "ExecuteTime": {
     "end_time": "2023-11-09T14:41:37.640835Z",
     "start_time": "2023-11-09T14:41:37.190146Z"
    },
    "collapsed": false,
    "jupyter": {
     "outputs_hidden": false
    }
   },
   "outputs": [
    {
     "data": {
      "image/png": "[encoded data removed]",
      "text/plain": [
       "<Figure size 640x480 with 1 Axes>"
      ]
     },
     "metadata": {},
     "output_type": "display_data"
    }
   ],
   "source": [
    "import matplotlib.pyplot as plt\n",
    "\n",
    "plt.plot(model.losses)\n",
    "plt.show()"
   ]
  },
  {
   "cell_type": "code",
   "execution_count": 8,
   "id": "9ac01de897fa4d11",
   "metadata": {
    "ExecuteTime": {
     "end_time": "2023-11-09T14:41:40.405794Z",
     "start_time": "2023-11-09T14:41:40.329194Z"
    },
    "collapsed": false,
    "jupyter": {
     "outputs_hidden": false
    }
   },
   "outputs": [],
   "source": [
    "from archetypes.visualization import heatmap\n",
    "from archetypes.datasets import sort_by_archetype_similarity"
   ]
  },
  {
   "cell_type": "code",
   "execution_count": 9,
   "id": "5842dd3a2d423260",
   "metadata": {
    "ExecuteTime": {
     "end_time": "2023-11-09T14:43:12.136903Z",
     "start_time": "2023-11-09T14:43:12.080223Z"
    },
    "collapsed": false,
    "jupyter": {
     "outputs_hidden": false
    }
   },
   "outputs": [],
   "source": [
    "alphas = [a.detach().numpy() for a in model.A]\n",
    "estimated_archetypes = model.Z.detach().numpy()\n",
    "\n",
    "_, info_s = sort_by_archetype_similarity(data[0, :, :], alphas[1:3], estimated_archetypes[0, :, :])"
   ]
  },
  {
   "cell_type": "code",
   "execution_count": 77,
   "id": "6faad01568f6ac20",
   "metadata": {
    "ExecuteTime": {
     "end_time": "2023-11-09T14:43:28.322845Z",
     "start_time": "2023-11-09T14:43:28.267166Z"
    },
    "collapsed": false,
    "jupyter": {
     "outputs_hidden": false
    }
   },
   "outputs": [],
   "source": [
    "gnames = np.array([str(*g) for g in mat[\"gnames\"][0]])[info_s[\"perms\"][0]]\n",
    "names = np.array([str(*n[0]) for n in mat[\"names\"]])[info_s[\"perms\"][0]]\n",
    "labels = info_s[\"labels\"][0]\n",
    "scores = info_s[\"scores\"][0]"
   ]
  },
  {
   "cell_type": "code",
   "execution_count": 78,
   "id": "b49e8207-e0d4-4206-8fc2-2e4066cb783b",
   "metadata": {},
   "outputs": [],
   "source": [
    "df = pd.DataFrame({\"gname\": gnames, \"name\": names, \"label\": labels, \"score\": scores})"
   ]
  },
  {
   "cell_type": "code",
   "execution_count": null,
   "id": "1a9eb69e-dd37-43a0-8b86-5ede18b7086d",
   "metadata": {},
   "outputs": [],
   "source": []
  },
  {
   "cell_type": "code",
   "execution_count": 82,
   "id": "bea06022-6a97-43b5-b962-1b6bab0eaa2a",
   "metadata": {},
   "outputs": [
    {
     "name": "stdout",
     "output_type": "stream",
     "text": [
      "0                      Conceptual_Entity\n",
      "1                                 Entity\n",
      "2               Occupation_or_Discipline\n",
      "3                        Physical_Object\n",
      "4    Biomedical_Occupation_or_Discipline\n",
      "Name: name, dtype: object\n",
      "50               Chemical_Viewed_Structurally\n",
      "51    Nucleic_Acid,_Nucleoside,_or_Nucleotide\n",
      "52                  Organophosphorus_Compound\n",
      "53                               Carbohydrate\n",
      "54                                      Lipid\n",
      "Name: name, dtype: object\n",
      "66    Organism\n",
      "67    Archaeon\n",
      "68      Mammal\n",
      "69       Human\n",
      "70     Reptile\n",
      "Name: name, dtype: object\n",
      "77    Laboratory_Procedure\n",
      "78    Diagnostic_Procedure\n",
      "Name: name, dtype: object\n",
      "86    Immunologic_Factor\n",
      "87              Receptor\n",
      "88               Vitamin\n",
      "89                Enzyme\n",
      "90               Hormone\n",
      "Name: name, dtype: object\n",
      "94    Organ_or_Tissue_Function\n",
      "95           Organism_Function\n",
      "96               Cell_Function\n",
      "97          Molecular_Function\n",
      "98              Mental_Process\n",
      "Name: name, dtype: object\n",
      "102                                  Tissue\n",
      "103    Body_Part,_Organ,_or_Organ_Component\n",
      "104                                    Cell\n",
      "105                          Cell_Component\n",
      "106       Fully_Formed_Anatomical_Structure\n",
      "Name: name, dtype: object\n",
      "109                      Virus\n",
      "110    Rickettsia_or_Chlamydia\n",
      "111                     Fungus\n",
      "112                  Bacterium\n",
      "Name: name, dtype: object\n",
      "115              Pathologic_Function\n",
      "116              Disease_or_Syndrome\n",
      "117               Neoplastic_Process\n",
      "118    Cell_or_Molecular_Dysfunction\n",
      "119    Experimental_Model_of_Disease\n",
      "Name: name, dtype: object\n",
      "121        Environmental_Effect_of_Humans\n",
      "122    Human-caused_Phenomenon_or_Process\n",
      "123                 Phenomenon_or_Process\n",
      "Name: name, dtype: object\n",
      "126      Acquired_Abnormality\n",
      "127    Congenital_Abnormality\n",
      "128    Anatomical_Abnormality\n",
      "Name: name, dtype: object\n",
      "130     Body_Space_or_Junction\n",
      "131    Body_Location_or_Region\n",
      "Name: name, dtype: object\n",
      "132    Pharmacologic_Substance\n",
      "133                 Antibiotic\n",
      "Name: name, dtype: object\n",
      "134    Natural_Phenomenon_or_Process\n",
      "Name: name, dtype: object\n"
     ]
    }
   ],
   "source": [
    "for _, df_i in df.groupby(\"label\"):\n",
    "    c = df_i.groupby(\"gname\").count()\n",
    "    print(df_i.name[df_i.score > 0.8].head(5))"
   ]
  },
  {
   "cell_type": "code",
   "execution_count": 72,
   "id": "6993d2fd-7c29-4e62-9075-b877159202cd",
   "metadata": {},
   "outputs": [
    {
     "data": {
      "text/plain": [
       "array(['Activities_&_Behaviors', 'Anatomy', 'Chemicals_&_Drugs',\n",
       "       'Concepts_&_Ideas', 'Devices', 'Disorders',\n",
       "       'Genes_&_Molecular_Sequences', 'Geographic_Areas', 'Living_Beings',\n",
       "       'Objects', 'Occupations', 'Organizations', 'Phenomena',\n",
       "       'Physiology', 'Procedures'], dtype='<U27')"
      ]
     },
     "execution_count": 72,
     "metadata": {},
     "output_type": "execute_result"
    }
   ],
   "source": [
    "np.unique(gnames)"
   ]
  },
  {
   "cell_type": "code",
   "execution_count": null,
   "id": "410f4603-0808-4892-855e-e553535c95ad",
   "metadata": {},
   "outputs": [],
   "source": []
  }
 ],
 "metadata": {
  "kernelspec": {
   "display_name": "Python 3 (ipykernel)",
   "language": "python",
   "name": "python3"
  },
  "language_info": {
   "codemirror_mode": {
    "name": "ipython",
    "version": 3
   },
   "file_extension": ".py",
   "mimetype": "text/x-python",
   "name": "python",
   "nbconvert_exporter": "python",
   "pygments_lexer": "ipython3",
   "version": "3.10.13"
  }
 },
 "nbformat": 4,
 "nbformat_minor": 5
}
